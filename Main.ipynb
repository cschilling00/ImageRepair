{
 "cells": [
  {
   "cell_type": "code",
   "execution_count": 1,
   "outputs": [
    {
     "ename": "error",
     "evalue": "OpenCV(4.5.5) D:\\a\\opencv-python\\opencv-python\\opencv\\modules\\imgproc\\src\\resize.cpp:4052: error: (-215:Assertion failed) !ssize.empty() in function 'cv::resize'\n",
     "output_type": "error",
     "traceback": [
      "\u001B[1;31m---------------------------------------------------------------------------\u001B[0m",
      "\u001B[1;31merror\u001B[0m                                     Traceback (most recent call last)",
      "Input \u001B[1;32mIn [1]\u001B[0m, in \u001B[0;36m<module>\u001B[1;34m\u001B[0m\n\u001B[0;32m      4\u001B[0m img_path \u001B[38;5;241m=\u001B[39m \u001B[38;5;124m'\u001B[39m\u001B[38;5;124mSAMSUNG SM-J710F (000025479680).jpg\u001B[39m\u001B[38;5;124m'\u001B[39m\n\u001B[0;32m      5\u001B[0m image \u001B[38;5;241m=\u001B[39m cv\u001B[38;5;241m.\u001B[39mimread(img_path, cv\u001B[38;5;241m.\u001B[39mIMREAD_COLOR)\n\u001B[1;32m----> 6\u001B[0m imS \u001B[38;5;241m=\u001B[39m \u001B[43mcv\u001B[49m\u001B[38;5;241;43m.\u001B[39;49m\u001B[43mresize\u001B[49m\u001B[43m(\u001B[49m\u001B[43mimage\u001B[49m\u001B[43m,\u001B[49m\u001B[43m \u001B[49m\u001B[43m(\u001B[49m\u001B[38;5;241;43m960\u001B[39;49m\u001B[43m,\u001B[49m\u001B[38;5;241;43m540\u001B[39;49m\u001B[43m)\u001B[49m\u001B[43m)\u001B[49m\n\u001B[0;32m      7\u001B[0m hsv \u001B[38;5;241m=\u001B[39m cv\u001B[38;5;241m.\u001B[39mcvtColor(imS, cv\u001B[38;5;241m.\u001B[39mCOLOR_BGR2HSV)\n\u001B[0;32m      8\u001B[0m grey \u001B[38;5;241m=\u001B[39m cv\u001B[38;5;241m.\u001B[39mcvtColor(image, cv\u001B[38;5;241m.\u001B[39mCOLOR_BGR2GRAY)\n",
      "\u001B[1;31merror\u001B[0m: OpenCV(4.5.5) D:\\a\\opencv-python\\opencv-python\\opencv\\modules\\imgproc\\src\\resize.cpp:4052: error: (-215:Assertion failed) !ssize.empty() in function 'cv::resize'\n"
     ]
    }
   ],
   "source": [
    "import cv2 as cv\n",
    "import numpy as np\n",
    "from matplotlib import pyplot as plt\n",
    "img_path = 'SAMSUNG SM-J710F (000025479680).jpg'\n",
    "image = cv.imread(img_path, cv.IMREAD_COLOR)\n",
    "imS = cv.resize(image, (960,540))\n",
    "hsv = cv.cvtColor(imS, cv.COLOR_BGR2HSV)\n",
    "grey = cv.cvtColor(image, cv.COLOR_BGR2GRAY)\n",
    "# cv.imshow(img_path, hsv)\n",
    "# k = cv.waitKey(0)\n",
    "# cv.imshow(img_path, grey)\n",
    "# k = cv.waitKey(0)\n",
    "# cv.imshow(img_path, blur_gray)\n",
    "# k = cv.waitKey(0)\n"
   ],
   "metadata": {
    "collapsed": false,
    "pycharm": {
     "name": "#%%\n"
    }
   }
  },
  {
   "cell_type": "code",
   "execution_count": 671,
   "outputs": [],
   "source": [
    "# _, thresh = cv.threshold(grey, 100, 255, cv.THRESH_BINARY)\n",
    "# cv.imshow(img_path, thresh)\n",
    "# k = cv.waitKey(0)\n",
    "# img = cv.medianBlur(grey,5)\n",
    "# ret,th1 = cv.threshold(img,127,255,cv.THRESH_BINARY)\n",
    "# th2 = cv.adaptiveThreshold(img,255,cv.ADAPTIVE_THRESH_MEAN_C,\n",
    "#                            cv.THRESH_BINARY,11,2)\n",
    "# th3 = cv.adaptiveThreshold(img,255,cv.ADAPTIVE_THRESH_GAUSSIAN_C,\n",
    "#                            cv.THRESH_BINARY,11,2)\n",
    "# ret2,th4 = cv.threshold(img,0,255,cv.THRESH_BINARY+cv.THRESH_OTSU)\n",
    "# cv.imshow(img_path, imS)\n",
    "# k = cv.waitKey(0)\n",
    "# cv.imshow(img_path, th1)\n",
    "# k = cv.waitKey(0)\n",
    "# cv.imshow(img_path, th2)\n",
    "# k = cv.waitKey(0)\n",
    "# cv.imshow(img_path, th3)\n",
    "# k = cv.waitKey(0)\n",
    "# cv.imshow(img_path, th4)\n",
    "# k = cv.waitKey(0)"
   ],
   "metadata": {
    "collapsed": false,
    "pycharm": {
     "name": "#%%\n"
    }
   }
  },
  {
   "cell_type": "code",
   "execution_count": 672,
   "outputs": [
    {
     "name": "stdout",
     "output_type": "stream",
     "text": [
      "x,y,w,h\n",
      "0\n",
      "662\n",
      "4088\n",
      "1676\n"
     ]
    },
    {
     "data": {
      "text/plain": "True"
     },
     "execution_count": 672,
     "metadata": {},
     "output_type": "execute_result"
    }
   ],
   "source": [
    "rho = 1  # distance resolution in pixels of the Hough grid\n",
    "theta = np.pi / 180  # angular resolution in radians of the Hough grid\n",
    "threshold = 15  # minimum number of votes (intersections in Hough grid cell)\n",
    "min_line_length = 400  # minimum number of pixels making up a line\n",
    "max_line_gap = 40  # maximum gap in pixels between connectable line segments\n",
    "line_image = np.copy(grey) * 0  # creating a blank to draw lines on\n",
    "edges = cv.Canny(grey, 10, 250)\n",
    "lines = cv.HoughLinesP(edges, rho, theta, threshold, np.array([]),\n",
    "                        min_line_length, max_line_gap)\n",
    "for line in lines:\n",
    "    for x1,y1,x2,y2 in line:\n",
    "        cv.line(line_image,(x1,y1),(x2,y2),(255,255,255),40)\n",
    "\n",
    "\n",
    "_, thresh = cv.threshold(line_image, 1, 255, cv.THRESH_BINARY_INV)\n",
    "cv.imshow(img_path, edges)\n",
    "k = cv.waitKey(0)\n",
    "cv.imshow(img_path, thresh)\n",
    "k = cv.waitKey(0)\n",
    "res = cv.bitwise_and(grey, grey, mask=thresh)\n",
    "cv.imshow(\"res\", res)\n",
    "cv.waitKey(0)\n",
    "x, y, w, h = cv.boundingRect(res)\n",
    "print('x,y,w,h')\n",
    "print(x)\n",
    "print(y)\n",
    "print(w)\n",
    "print(h)\n",
    "crop = image[y:y + h, x:x + w]\n",
    "cv.imshow(\"crop\", crop)\n",
    "cv.waitKey(0)\n",
    "cv.imwrite(\"crop.jpg\", crop)"
   ],
   "metadata": {
    "collapsed": false,
    "pycharm": {
     "name": "#%%\n"
    }
   }
  },
  {
   "cell_type": "code",
   "execution_count": 672,
   "outputs": [],
   "source": [],
   "metadata": {
    "collapsed": false,
    "pycharm": {
     "name": "#%%\n"
    }
   }
  },
  {
   "cell_type": "code",
   "execution_count": 673,
   "outputs": [],
   "source": [
    "# 4088, 3056\n",
    "# px = hsv[3055, 4087]\n",
    "# px1 = hsv[100, 2]\n",
    "# px1 = hsv[1000, 2]\n",
    "# px2 = hsv[1500, 2]\n",
    "# px3 = hsv[2000, 2]\n",
    "# px4 = hsv[2500, 2]\n",
    "# print( px )\n",
    "# print( px1 )\n",
    "# print( px2 )\n",
    "# print( px3 )\n",
    "# print( px4 )\n",
    "# x = image.shape[0]\n",
    "# y = image.shape[1]\n",
    "# print(x)\n",
    "# print(y)\n",
    "# pv = hsv[0, 10][0]\n",
    "# print(pv)\n",
    "# idx = 0\n",
    "# for z in range(x):\n",
    "#     pv2 = hsv[z, 4050][0]\n",
    "#     dif = pv-pv2\n",
    "#     if (dif > 50) or (dif < -50):\n",
    "#         if idx + 1 == z:\n",
    "#             print(\"dif\")\n",
    "#             print(dif)\n",
    "#             print(z)\n",
    "#         # print(pv)\n",
    "#         # print(pv2)\n",
    "#     idx = z\n",
    "#     pv = pv2\n",
    "\n",
    "\n",
    "# for x,y in range(image.shape):\n",
    "#     for y in range(1):\n",
    "#        if (gray_img[x, y] == gray_img[x, y+100] == gray_img[x, y+200]):\n",
    "#             z=z+1\n",
    "#             print(z)\n"
   ],
   "metadata": {
    "collapsed": false,
    "pycharm": {
     "name": "#%%\n"
    }
   }
  },
  {
   "cell_type": "code",
   "execution_count": 674,
   "outputs": [],
   "source": [
    "# grey = cv.cvtColor(imS, cv.COLOR_BGR2GRAY)\n",
    "# edged = cv.Canny(grey, 200, 250)\n",
    "# cv.imshow(img_path, edged)\n",
    "# k = cv.waitKey(0)\n",
    "# hsv = cv.cvtColor(imS, cv.COLOR_BGR2HSV)\n",
    "# px = hsv[530, 959]\n",
    "# print( px )\n",
    "# low_grey = np.array([107, 49, 161])\n",
    "# high_grey = np.array([109, 51, 163])\n",
    "# mask = cv.inRange(hsv, low_grey, high_grey)\n",
    "# # res = cv.bitwise_or(imS,imS, mask= mask)\n",
    "# # cv.imshow(img_path, res)\n",
    "# # k = cv.waitKey(0)\n",
    "# # cv.imshow(img_path, mask)\n",
    "# # k = cv.waitKey(0)\n",
    "#\n",
    "# rgb_mask=cv.cvtColor(mask,cv.COLOR_GRAY2BGR)#change mask to a 3 channel image\n",
    "# mask_out = cv.subtract(imS, rgb_mask)\n",
    "# # cv.imshow(img_path, mask_out)\n",
    "# # k = cv.waitKey(0)\n",
    "#\n",
    "#\n",
    "# mask_out_grey = cv.cvtColor(mask_out, cv.COLOR_BGR2GRAY)\n",
    "# _,thresh = cv.threshold(mask_out_grey,1,255,cv.THRESH_BINARY)\n",
    "# cv.imshow(img_path, thresh)\n",
    "# k = cv.waitKey(0)\n",
    "# contours,hierarchy = cv.findContours(thresh,cv.RETR_EXTERNAL,cv.CHAIN_APPROX_SIMPLE)\n",
    "# cnt = contours[0]\n",
    "# x,y,w,h = cv.boundingRect(cnt)\n",
    "# print('x,y,w,h')\n",
    "# print(x)\n",
    "# print(y)\n",
    "# print(w)\n",
    "# print(h)\n",
    "# crop = imS[y:y+h,x:x+w]\n",
    "# cv.imshow(img_path, crop)\n",
    "# k = cv.waitKey(0)\n",
    "# # cv.imwrite('softwines.png', crop)"
   ],
   "metadata": {
    "collapsed": false,
    "pycharm": {
     "name": "#%%\n"
    }
   }
  },
  {
   "cell_type": "code",
   "execution_count": 675,
   "outputs": [],
   "source": [
    "# rgb_img = cv.cvtColor(imS, cv.COLOR_BGR2RGB)\n",
    "# hsv_img = cv.cvtColor(rgb_img, cv.COLOR_RGB2HSV)\n",
    "# gray_img = cv.cvtColor(imS, cv.COLOR_RGB2GRAY)\n",
    "# light_grey = (0, 0, 127)\n",
    "# dark_grey = (1, 1, 130)\n",
    "# # mask = cv.inRange(hsv_img, light_grey, dark_grey)\n",
    "# px = hsv_img[530, 959]\n",
    "# print( px )\n",
    "# # result = cv.bitwise_xor(imS, imS, mask=mask)\n",
    "# cv.imshow(img_path, hsv_img)\n",
    "# cv.imshow(img_path, gray_img)\n",
    "# k = cv.waitKey(0)\n",
    "# z=0\n",
    "# for x in range(539):\n",
    "#     for y in range(1):\n",
    "#         if (gray_img[x, y] == gray_img[x, y+100] == gray_img[x, y+200]):\n",
    "#             z=z+1\n",
    "#             print(z)\n",
    "#\n",
    "# cv.line(imS, (0,540-z), (960, 540-z), (0, 0, 0), 2)\n",
    "# # cv.line(imS, (0,0), (540,960), (255, 0, 0), 5)\n",
    "#\n",
    "# cv.imshow(img_path, imS)\n",
    "# k = cv.waitKey(0)\n",
    "# # if (gray_img[531, 959] == gray_img[530, 959]):\n",
    "# #     print('same Value in pic')\n"
   ],
   "metadata": {
    "collapsed": false,
    "pycharm": {
     "name": "#%%\n"
    }
   }
  },
  {
   "cell_type": "code",
   "execution_count": 675,
   "outputs": [],
   "source": [],
   "metadata": {
    "collapsed": false,
    "pycharm": {
     "name": "#%%\n"
    }
   }
  },
  {
   "cell_type": "code",
   "execution_count": 676,
   "outputs": [
    {
     "name": "stdout",
     "output_type": "stream",
     "text": [
      "(540, 960, 3)\n",
      "(2338, 4088, 3)\n",
      "28673232\n",
      "uint8\n"
     ]
    }
   ],
   "source": [
    "# bitwise_xor\n",
    "# cropped_image = image[0:3096, 0:4128]\n",
    "\n",
    "print( imS.shape )\n",
    "print( image.shape )\n",
    "print( image.size )\n",
    "print( image.dtype )"
   ],
   "metadata": {
    "collapsed": false,
    "pycharm": {
     "name": "#%%\n"
    }
   }
  },
  {
   "cell_type": "code",
   "execution_count": 677,
   "outputs": [],
   "source": [
    "# cv.imshow(img_path, imS)\n",
    "# cv.imshow(\"Cropped Image\", cropped_image);\n",
    "# k = cv.waitKey(0)"
   ],
   "metadata": {
    "collapsed": false,
    "pycharm": {
     "name": "#%%\n"
    }
   }
  }
 ],
 "metadata": {
  "kernelspec": {
   "display_name": "Python 3",
   "language": "python",
   "name": "python3"
  },
  "language_info": {
   "codemirror_mode": {
    "name": "ipython",
    "version": 2
   },
   "file_extension": ".py",
   "mimetype": "text/x-python",
   "name": "python",
   "nbconvert_exporter": "python",
   "pygments_lexer": "ipython2",
   "version": "2.7.6"
  }
 },
 "nbformat": 4,
 "nbformat_minor": 0
}