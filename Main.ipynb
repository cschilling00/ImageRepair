{
 "cells": [
  {
   "cell_type": "code",
   "execution_count": 87,
   "outputs": [],
   "source": [
    "import cv2 as cv\n",
    "import numpy as np\n",
    "from matplotlib import pyplot as plt\n",
    "img_path = 'SAMSUNG SM-J710F (000014600640).jpg'\n",
    "imS = cv.imread(img_path, cv.IMREAD_COLOR)\n",
    "image = cv.resize(imS, (960, 540))"
   ],
   "metadata": {
    "collapsed": false,
    "pycharm": {
     "name": "#%%\n"
    }
   }
  },
  {
   "cell_type": "code",
   "execution_count": 88,
   "outputs": [
    {
     "name": "stdout",
     "output_type": "stream",
     "text": [
      "[175 134 101]\n"
     ]
    }
   ],
   "source": [
    "px = imS[530, 959]\n",
    "print( px )\n",
    "# imS[100,100] = [255,255,255]\n",
    "# imS[80:280, 150:330] = [255, 255, 0]\n",
    "# print( imS[100,100] )"
   ],
   "metadata": {
    "collapsed": false,
    "pycharm": {
     "name": "#%%\n"
    }
   }
  },
  {
   "cell_type": "code",
   "execution_count": 96,
   "outputs": [
    {
     "name": "stdout",
     "output_type": "stream",
     "text": [
      "[107 108 175]\n",
      "[[[   0    0]]\n",
      "\n",
      " [[   0 2791]]\n",
      "\n",
      " [[2239 2791]]\n",
      "\n",
      " [[2239 2784]]\n",
      "\n",
      " [[2240 2783]]\n",
      "\n",
      " [[3123 2783]]\n",
      "\n",
      " [[3124 2782]]\n",
      "\n",
      " [[3125 2783]]\n",
      "\n",
      " [[4127 2783]]\n",
      "\n",
      " [[4127 2380]]\n",
      "\n",
      " [[4126 2379]]\n",
      "\n",
      " [[4127 2378]]\n",
      "\n",
      " [[4127 2153]]\n",
      "\n",
      " [[4126 2152]]\n",
      "\n",
      " [[4127 2151]]\n",
      "\n",
      " [[4127    0]]]\n",
      "x,y,w,h\n",
      "0\n",
      "0\n",
      "4128\n",
      "2792\n"
     ]
    },
    {
     "data": {
      "text/plain": "True"
     },
     "execution_count": 96,
     "metadata": {},
     "output_type": "execute_result"
    }
   ],
   "source": [
    "# cv.imshow(img_path, imS)\n",
    "# k = cv.waitKey(0)\n",
    "hsv = cv.cvtColor(imS, cv.COLOR_BGR2HSV)\n",
    "px = hsv[530, 959]\n",
    "print( px )\n",
    "low_grey = np.array([0, 0, 127])\n",
    "high_grey = np.array([0, 0, 129])\n",
    "mask = cv.inRange(hsv, low_grey, high_grey)\n",
    "# res = cv.bitwise_or(imS,imS, mask= mask)\n",
    "# cv.imshow(img_path, res)\n",
    "# k = cv.waitKey(0)\n",
    "# cv.imshow(img_path, mask)\n",
    "# k = cv.waitKey(0)\n",
    "\n",
    "rgb_mask=cv.cvtColor(mask,cv.COLOR_GRAY2BGR)#change mask to a 3 channel image\n",
    "mask_out = cv.subtract(imS, rgb_mask)\n",
    "# cv.imshow(img_path, mask_out)\n",
    "# k = cv.waitKey(0)\n",
    "\n",
    "\n",
    "mask_out_grey = cv.cvtColor(mask_out, cv.COLOR_BGR2GRAY)\n",
    "_,thresh = cv.threshold(mask_out_grey,1,255,cv.THRESH_BINARY)\n",
    "# cv.imshow(img_path, thresh)\n",
    "# k = cv.waitKey(0)\n",
    "contours,hierarchy = cv.findContours(thresh,cv.RETR_EXTERNAL,cv.CHAIN_APPROX_SIMPLE)\n",
    "cnt = contours[0]\n",
    "print(contours[0])\n",
    "x,y,w,h = cv.boundingRect(cnt)\n",
    "print('x,y,w,h')\n",
    "print(x)\n",
    "print(y)\n",
    "print(w)\n",
    "print(h)\n",
    "crop = imS[y:y+h,x:x+w]\n",
    "# cv.imshow(img_path, crop)\n",
    "# k = cv.waitKey(0)\n",
    "cv.imwrite('softwines.png', crop)"
   ],
   "metadata": {
    "collapsed": false,
    "pycharm": {
     "name": "#%%\n"
    }
   }
  },
  {
   "cell_type": "code",
   "execution_count": 90,
   "outputs": [],
   "source": [
    "# rgb_img = cv.cvtColor(imS, cv.COLOR_BGR2RGB)\n",
    "# hsv_img = cv.cvtColor(rgb_img, cv.COLOR_RGB2HSV)\n",
    "# gray_img = cv.cvtColor(imS, cv.COLOR_RGB2GRAY)\n",
    "# light_grey = (0, 0, 127)\n",
    "# dark_grey = (1, 1, 130)\n",
    "# # mask = cv.inRange(hsv_img, light_grey, dark_grey)\n",
    "# px = hsv_img[530, 959]\n",
    "# print( px )\n",
    "# # result = cv.bitwise_xor(imS, imS, mask=mask)\n",
    "# cv.imshow(img_path, hsv_img)\n",
    "# cv.imshow(img_path, gray_img)\n",
    "# k = cv.waitKey(0)\n",
    "# z=0\n",
    "# for x in range(539):\n",
    "#     for y in range(1):\n",
    "#         if (gray_img[x, y] == gray_img[x, y+100] == gray_img[x, y+200]):\n",
    "#             z=z+1\n",
    "#             print(z)\n",
    "#\n",
    "# cv.line(imS, (0,540-z), (960, 540-z), (0, 0, 0), 2)\n",
    "# # cv.line(imS, (0,0), (540,960), (255, 0, 0), 5)\n",
    "#\n",
    "# cv.imshow(img_path, imS)\n",
    "# k = cv.waitKey(0)\n",
    "# # if (gray_img[531, 959] == gray_img[530, 959]):\n",
    "# #     print('same Value in pic')\n"
   ],
   "metadata": {
    "collapsed": false,
    "pycharm": {
     "name": "#%%\n"
    }
   }
  },
  {
   "cell_type": "code",
   "execution_count": 90,
   "outputs": [],
   "source": [],
   "metadata": {
    "collapsed": false,
    "pycharm": {
     "name": "#%%\n"
    }
   }
  },
  {
   "cell_type": "code",
   "execution_count": 91,
   "outputs": [
    {
     "name": "stdout",
     "output_type": "stream",
     "text": [
      "(3096, 4128, 3)\n",
      "(540, 960, 3)\n",
      "1555200\n",
      "uint8\n"
     ]
    }
   ],
   "source": [
    "# bitwise_xor\n",
    "# cropped_image = image[0:3096, 0:4128]\n",
    "\n",
    "print( imS.shape )\n",
    "print( image.shape )\n",
    "print( image.size )\n",
    "print( image.dtype )"
   ],
   "metadata": {
    "collapsed": false,
    "pycharm": {
     "name": "#%%\n"
    }
   }
  },
  {
   "cell_type": "code",
   "execution_count": 92,
   "outputs": [],
   "source": [
    "# cv.imshow(img_path, imS)\n",
    "# cv.imshow(\"Cropped Image\", cropped_image);\n",
    "# k = cv.waitKey(0)"
   ],
   "metadata": {
    "collapsed": false,
    "pycharm": {
     "name": "#%%\n"
    }
   }
  }
 ],
 "metadata": {
  "kernelspec": {
   "display_name": "Python 3",
   "language": "python",
   "name": "python3"
  },
  "language_info": {
   "codemirror_mode": {
    "name": "ipython",
    "version": 2
   },
   "file_extension": ".py",
   "mimetype": "text/x-python",
   "name": "python",
   "nbconvert_exporter": "python",
   "pygments_lexer": "ipython2",
   "version": "2.7.6"
  }
 },
 "nbformat": 4,
 "nbformat_minor": 0
}