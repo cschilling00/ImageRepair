{
 "cells": [
  {
   "cell_type": "code",
   "execution_count": 7,
   "outputs": [],
   "source": [
    "import cv2 as cv\n",
    "import numpy as np\n",
    "from matplotlib import pyplot as plt\n",
    "img_path = 'SAMSUNG SM-J710F (000014600640).jpg'\n",
    "image = cv.imread(img_path, cv.IMREAD_COLOR)\n",
    "imS = cv.resize(image, (960, 540))"
   ],
   "metadata": {
    "collapsed": false,
    "pycharm": {
     "name": "#%%\n"
    }
   }
  },
  {
   "cell_type": "code",
   "execution_count": 8,
   "outputs": [
    {
     "name": "stdout",
     "output_type": "stream",
     "text": [
      "[128 128 128]\n"
     ]
    }
   ],
   "source": [
    "px = imS[530, 959]\n",
    "print( px )\n",
    "# imS[100,100] = [255,255,255]\n",
    "# imS[80:280, 150:330] = [255, 255, 0]\n",
    "# print( imS[100,100] )"
   ],
   "metadata": {
    "collapsed": false,
    "pycharm": {
     "name": "#%%\n"
    }
   }
  },
  {
   "cell_type": "code",
   "execution_count": null,
   "outputs": [
    {
     "name": "stdout",
     "output_type": "stream",
     "text": [
      "[  0   0 128]\n"
     ]
    }
   ],
   "source": [
    "rgb_img = cv.cvtColor(imS, cv.COLOR_BGR2RGB)\n",
    "hsv_img = cv.cvtColor(rgb_img, cv.COLOR_RGB2HSV)\n",
    "gray_img = cv.cvtColor(imS, cv.COLOR_RGB2GRAY)\n",
    "light_grey = (0, 0, 127)\n",
    "dark_grey = (1, 1, 130)\n",
    "# mask = cv.inRange(hsv_img, light_grey, dark_grey)\n",
    "px = hsv_img[530, 959]\n",
    "print( px )\n",
    "# result = cv.bitwise_xor(imS, imS, mask=mask)\n",
    "cv.imshow(img_path, hsv_img)\n",
    "cv.imshow(img_path, gray_img)\n",
    "k = cv.waitKey(0)\n",
    "z=0\n",
    "for x in range(539):\n",
    "    for y in range(1):\n",
    "        if (gray_img[x, y] == gray_img[x, y+100] == gray_img[x, y+200]):\n",
    "            z=z+1\n",
    "            print(z)\n",
    "\n",
    "cv.line(imS, (0,540-z), (960, 540-z), (0, 0, 0), 2)\n",
    "# cv.line(imS, (0,0), (540,960), (255, 0, 0), 5)\n",
    "\n",
    "cv.imshow(img_path, imS)\n",
    "k = cv.waitKey(0)\n",
    "# if (gray_img[531, 959] == gray_img[530, 959]):\n",
    "#     print('same Value in pic')\n"
   ],
   "metadata": {
    "collapsed": false,
    "pycharm": {
     "name": "#%%\n",
     "is_executing": true
    }
   }
  },
  {
   "cell_type": "code",
   "execution_count": null,
   "outputs": [],
   "source": [
    "import cv2\n",
    "import os\n",
    "import glob\n",
    "img_dir = \"./\" # Enter Directory of all images\n",
    "data_path = os.path.join(img_dir,'*g')\n",
    "files = glob.glob(data_path)\n",
    "data = []\n",
    "for f1 in files:\n",
    "    img = cv2.imread(f1)\n",
    "    data.append(img)\n",
    "\n",
    "for img in data:\n",
    "    cv2.imshow('ghn', img)\n",
    "    k = cv2.waitKey(0)"
   ],
   "metadata": {
    "collapsed": false,
    "pycharm": {
     "name": "#%%\n",
     "is_executing": true
    }
   }
  },
  {
   "cell_type": "code",
   "execution_count": null,
   "outputs": [],
   "source": [
    "# bitwise_xor\n",
    "# cropped_image = image[0:3096, 0:4128]\n",
    "\n",
    "print( imS.shape )\n",
    "print( image.shape )\n",
    "print( image.size )\n",
    "print( image.dtype )"
   ],
   "metadata": {
    "collapsed": false,
    "pycharm": {
     "name": "#%%\n",
     "is_executing": true
    }
   }
  },
  {
   "cell_type": "code",
   "execution_count": null,
   "outputs": [],
   "source": [
    "# cv.imshow(img_path, imS)\n",
    "# cv.imshow(\"Cropped Image\", cropped_image);\n",
    "# k = cv.waitKey(0)"
   ],
   "metadata": {
    "collapsed": false,
    "pycharm": {
     "name": "#%%\n",
     "is_executing": true
    }
   }
  }
 ],
 "metadata": {
  "kernelspec": {
   "display_name": "Python 3",
   "language": "python",
   "name": "python3"
  },
  "language_info": {
   "codemirror_mode": {
    "name": "ipython",
    "version": 2
   },
   "file_extension": ".py",
   "mimetype": "text/x-python",
   "name": "python",
   "nbconvert_exporter": "python",
   "pygments_lexer": "ipython2",
   "version": "2.7.6"
  }
 },
 "nbformat": 4,
 "nbformat_minor": 0
}